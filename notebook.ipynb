{
 "cells": [
  {
   "cell_type": "markdown",
   "id": "e2c1a5df",
   "metadata": {},
   "source": [
    "<a id=\"top_section\"></a>\n",
    "<div align='center'><font size=\"5\" color=\"#000000\"><b>Automatisation de la classification d’articles sur une marketplace e-commerce</b></font></div>\n",
    "<hr>\n",
    "<div align='center'><font size=\"4\" color=\"#000000\">Développement d'un moteur de classification basé sur les descriptions textuelles des produits</font></div>\n",
    "<hr>"
   ]
  },
  {
   "cell_type": "markdown",
   "id": "af0f595d",
   "metadata": {},
   "source": [
    "## Sommaire\n",
    "\n",
    "- [**Introduction**](#Introduction)\n",
    "    - [Contexte](#Contexte)\n",
    "    - [Objectif du projet](#Objectif-du-projet)\n",
    "- [**Importation des packages**](#Importation-des-packages)\n",
    "- [**Exploration et préparation des données**](#Exploration-et-préparation-des-données)\n",
    "    - [Chargement des données](#Chargement-des-données)\n",
    "    - [Aperçu des données](#Aperçu-des-données)\n",
    "    - [Création de la variable target](#Création-de-la-variable-target)\n",
    "- [**Nettoyage des données textuelles**](#Nettoyage-des-données-textuelles)\n",
    "    - [Tokenisation](#Tokenisation)\n",
    "    - [Normalisation du texte](#Normalisation-du-texte)\n",
    "    - [Suppression des stopwords](#Suppression-des-stopwords)\n",
    "    - [Suppression des mots contenant des caractères numériques](#Suppression-des-mots-contenant-des-caractères-numériques)\n",
    "    - [Suppression des mots rares](#Suppression-des-mots-rares)\n",
    "    - [Suppression des mots fréquents](#Suppression-des-mots-fréquents)\n",
    "    - [Lemmatisation ou Stemming](#Lemmatisation-ou-Stemming)\n",
    "    - [Fonction de nettoyage](#Fonction-de-nettoyage)\n",
    "    - [Nettoyage final](#Nettoyage-final)\n",
    "- [**Vectorisation du texte**](#Vectorisation-du-texte)\n",
    "    - [BoW](#BoW)\n",
    "    - [TF-IDF](#TF-IDF)\n",
    "    - [Word2Vec](#Word2Vec)\n",
    "    - [BERT](#BERT)\n",
    "    - [USE](#USE)\n",
    "    - [Dictionnaire contenant toutes les vectorisations](#Dictionnaire-contenant-toutes-les-vectorisations)\n",
    "- [**Modélisation**](#Modélisation)\n",
    "    - [Entraînement et évaluation des modèles](#Entraînement-et-évaluation-des-modèles)\n",
    "    - [Visualisation des résultats et sélection du modèle final](#Visualisation-des-résultats-et-sélection-du-modèle-final)\n",
    "    - [Optimisation des hyperparamètres](#Optimisation-des-hyperparamètres)\n",
    "    - [Interprétation des prédictions du modèle final](#Interprétation-des-prédictions-du-modèle-final)\n",
    "- [**Conclusion**](#Conclusion)"
   ]
  },
  {
   "cell_type": "markdown",
   "id": "beecd070",
   "metadata": {},
   "source": [
    "## Introduction\n",
    "\n",
    "### Contexte\n",
    "\n",
    "Dans le cadre du développement d'une marketplace e-commerce, l'attribution de catégories d'articles est une tâche essentielle pour améliorer l'expérience utilisateur, que ce soit pour les vendeurs ou les acheteurs. Jusqu'à présent, les vendeurs attribuent manuellement une catégorie à chaque article qu'ils souhaitent mettre en ligne. Cependant, cette méthode est sujette à des erreurs et devient inefficace avec l'augmentation du volume d'articles.\n",
    "\n",
    "### Objectif du projet\n",
    "\n",
    "L’objectif de ce projet est de concevoir un moteur de classification automatique capable d'attribuer des catégories à des articles en se basant sur leurs descriptions textuelles. Ce moteur permettra de faciliter l'intégration de nouveaux produits par les vendeurs et d'améliorer la recherche des articles par les acheteurs."
   ]
  },
  {
   "cell_type": "markdown",
   "id": "a818ceb8",
   "metadata": {},
   "source": [
    "## Importation des packages"
   ]
  },
  {
   "cell_type": "code",
   "execution_count": 1,
   "id": "4ef89c52",
   "metadata": {},
   "outputs": [
    {
     "name": "stdout",
     "output_type": "stream",
     "text": [
      "WARNING:tensorflow:From C:\\Users\\User\\anaconda3\\Lib\\site-packages\\tf_keras\\src\\losses.py:2976: The name tf.losses.sparse_softmax_cross_entropy is deprecated. Please use tf.compat.v1.losses.sparse_softmax_cross_entropy instead.\n",
      "\n"
     ]
    }
   ],
   "source": [
    "# Imports principaux\n",
    "import os\n",
    "import numpy as np\n",
    "import pandas as pd\n",
    "\n",
    "# Visualisations\n",
    "import matplotlib.pyplot as plt\n",
    "import seaborn as sns\n",
    "\n",
    "# NLP\n",
    "import nltk\n",
    "from nltk.tokenize import RegexpTokenizer\n",
    "from nltk.corpus import stopwords\n",
    "from nltk.stem import WordNetLemmatizer, PorterStemmer\n",
    "from sklearn.feature_extraction.text import TfidfVectorizer, CountVectorizer\n",
    "from gensim.models import Word2Vec\n",
    "import tensorflow_hub as hub\n",
    "import tensorflow as tf\n",
    "from transformers import DistilBertTokenizer, DistilBertModel\n",
    "import torch\n",
    "\n",
    "# Modélisation\n",
    "from sklearn.preprocessing import LabelEncoder\n",
    "from sklearn.model_selection import train_test_split, RandomizedSearchCV\n",
    "from sklearn.linear_model import LogisticRegression\n",
    "from sklearn.svm import SVC\n",
    "from sklearn.neighbors import KNeighborsClassifier\n",
    "from sklearn.ensemble import RandomForestClassifier, GradientBoostingClassifier\n",
    "from sklearn.neural_network import MLPClassifier\n",
    "from sklearn.cluster import KMeans\n",
    "from xgboost import XGBClassifier\n",
    "\n",
    "# Évaluation des modèles\n",
    "from sklearn.metrics import accuracy_score, f1_score, precision_score, recall_score, confusion_matrix, classification_report"
   ]
  },
  {
   "cell_type": "markdown",
   "id": "86e09ded",
   "metadata": {},
   "source": [
    "## Exploration et préparation des données\n",
    "### Chargement des données"
   ]
  },
  {
   "cell_type": "code",
   "execution_count": 2,
   "id": "1c5980ee",
   "metadata": {},
   "outputs": [
    {
     "data": {
      "text/html": [
       "<div>\n",
       "<style scoped>\n",
       "    .dataframe tbody tr th:only-of-type {\n",
       "        vertical-align: middle;\n",
       "    }\n",
       "\n",
       "    .dataframe tbody tr th {\n",
       "        vertical-align: top;\n",
       "    }\n",
       "\n",
       "    .dataframe thead th {\n",
       "        text-align: right;\n",
       "    }\n",
       "</style>\n",
       "<table border=\"1\" class=\"dataframe\">\n",
       "  <thead>\n",
       "    <tr style=\"text-align: right;\">\n",
       "      <th></th>\n",
       "      <th>uniq_id</th>\n",
       "      <th>crawl_timestamp</th>\n",
       "      <th>product_url</th>\n",
       "      <th>product_name</th>\n",
       "      <th>product_category_tree</th>\n",
       "      <th>pid</th>\n",
       "      <th>retail_price</th>\n",
       "      <th>discounted_price</th>\n",
       "      <th>image</th>\n",
       "      <th>is_FK_Advantage_product</th>\n",
       "      <th>description</th>\n",
       "      <th>product_rating</th>\n",
       "      <th>overall_rating</th>\n",
       "      <th>brand</th>\n",
       "      <th>product_specifications</th>\n",
       "    </tr>\n",
       "  </thead>\n",
       "  <tbody>\n",
       "    <tr>\n",
       "      <th>0</th>\n",
       "      <td>55b85ea15a1536d46b7190ad6fff8ce7</td>\n",
       "      <td>2016-04-30 03:22:56 +0000</td>\n",
       "      <td>http://www.flipkart.com/elegance-polyester-mul...</td>\n",
       "      <td>Elegance Polyester Multicolor Abstract Eyelet ...</td>\n",
       "      <td>[\"Home Furnishing &gt;&gt; Curtains &amp; Accessories &gt;&gt;...</td>\n",
       "      <td>CRNEG7BKMFFYHQ8Z</td>\n",
       "      <td>1899.0</td>\n",
       "      <td>899.0</td>\n",
       "      <td>55b85ea15a1536d46b7190ad6fff8ce7.jpg</td>\n",
       "      <td>False</td>\n",
       "      <td>Key Features of Elegance Polyester Multicolor ...</td>\n",
       "      <td>No rating available</td>\n",
       "      <td>No rating available</td>\n",
       "      <td>Elegance</td>\n",
       "      <td>{\"product_specification\"=&gt;[{\"key\"=&gt;\"Brand\", \"v...</td>\n",
       "    </tr>\n",
       "    <tr>\n",
       "      <th>1</th>\n",
       "      <td>7b72c92c2f6c40268628ec5f14c6d590</td>\n",
       "      <td>2016-04-30 03:22:56 +0000</td>\n",
       "      <td>http://www.flipkart.com/sathiyas-cotton-bath-t...</td>\n",
       "      <td>Sathiyas Cotton Bath Towel</td>\n",
       "      <td>[\"Baby Care &gt;&gt; Baby Bath &amp; Skin &gt;&gt; Baby Bath T...</td>\n",
       "      <td>BTWEGFZHGBXPHZUH</td>\n",
       "      <td>600.0</td>\n",
       "      <td>449.0</td>\n",
       "      <td>7b72c92c2f6c40268628ec5f14c6d590.jpg</td>\n",
       "      <td>False</td>\n",
       "      <td>Specifications of Sathiyas Cotton Bath Towel (...</td>\n",
       "      <td>No rating available</td>\n",
       "      <td>No rating available</td>\n",
       "      <td>Sathiyas</td>\n",
       "      <td>{\"product_specification\"=&gt;[{\"key\"=&gt;\"Machine Wa...</td>\n",
       "    </tr>\n",
       "    <tr>\n",
       "      <th>2</th>\n",
       "      <td>64d5d4a258243731dc7bbb1eef49ad74</td>\n",
       "      <td>2016-04-30 03:22:56 +0000</td>\n",
       "      <td>http://www.flipkart.com/eurospa-cotton-terry-f...</td>\n",
       "      <td>Eurospa Cotton Terry Face Towel Set</td>\n",
       "      <td>[\"Baby Care &gt;&gt; Baby Bath &amp; Skin &gt;&gt; Baby Bath T...</td>\n",
       "      <td>BTWEG6SHXTDB2A2Y</td>\n",
       "      <td>NaN</td>\n",
       "      <td>NaN</td>\n",
       "      <td>64d5d4a258243731dc7bbb1eef49ad74.jpg</td>\n",
       "      <td>False</td>\n",
       "      <td>Key Features of Eurospa Cotton Terry Face Towe...</td>\n",
       "      <td>No rating available</td>\n",
       "      <td>No rating available</td>\n",
       "      <td>Eurospa</td>\n",
       "      <td>{\"product_specification\"=&gt;[{\"key\"=&gt;\"Material\",...</td>\n",
       "    </tr>\n",
       "    <tr>\n",
       "      <th>3</th>\n",
       "      <td>d4684dcdc759dd9cdf41504698d737d8</td>\n",
       "      <td>2016-06-20 08:49:52 +0000</td>\n",
       "      <td>http://www.flipkart.com/santosh-royal-fashion-...</td>\n",
       "      <td>SANTOSH ROYAL FASHION Cotton Printed King size...</td>\n",
       "      <td>[\"Home Furnishing &gt;&gt; Bed Linen &gt;&gt; Bedsheets &gt;&gt;...</td>\n",
       "      <td>BDSEJT9UQWHDUBH4</td>\n",
       "      <td>2699.0</td>\n",
       "      <td>1299.0</td>\n",
       "      <td>d4684dcdc759dd9cdf41504698d737d8.jpg</td>\n",
       "      <td>False</td>\n",
       "      <td>Key Features of SANTOSH ROYAL FASHION Cotton P...</td>\n",
       "      <td>No rating available</td>\n",
       "      <td>No rating available</td>\n",
       "      <td>SANTOSH ROYAL FASHION</td>\n",
       "      <td>{\"product_specification\"=&gt;[{\"key\"=&gt;\"Brand\", \"v...</td>\n",
       "    </tr>\n",
       "    <tr>\n",
       "      <th>4</th>\n",
       "      <td>6325b6870c54cd47be6ebfbffa620ec7</td>\n",
       "      <td>2016-06-20 08:49:52 +0000</td>\n",
       "      <td>http://www.flipkart.com/jaipur-print-cotton-fl...</td>\n",
       "      <td>Jaipur Print Cotton Floral King sized Double B...</td>\n",
       "      <td>[\"Home Furnishing &gt;&gt; Bed Linen &gt;&gt; Bedsheets &gt;&gt;...</td>\n",
       "      <td>BDSEJTHNGWVGWWQU</td>\n",
       "      <td>2599.0</td>\n",
       "      <td>698.0</td>\n",
       "      <td>6325b6870c54cd47be6ebfbffa620ec7.jpg</td>\n",
       "      <td>False</td>\n",
       "      <td>Key Features of Jaipur Print Cotton Floral Kin...</td>\n",
       "      <td>No rating available</td>\n",
       "      <td>No rating available</td>\n",
       "      <td>Jaipur Print</td>\n",
       "      <td>{\"product_specification\"=&gt;[{\"key\"=&gt;\"Machine Wa...</td>\n",
       "    </tr>\n",
       "  </tbody>\n",
       "</table>\n",
       "</div>"
      ],
      "text/plain": [
       "                            uniq_id            crawl_timestamp  \\\n",
       "0  55b85ea15a1536d46b7190ad6fff8ce7  2016-04-30 03:22:56 +0000   \n",
       "1  7b72c92c2f6c40268628ec5f14c6d590  2016-04-30 03:22:56 +0000   \n",
       "2  64d5d4a258243731dc7bbb1eef49ad74  2016-04-30 03:22:56 +0000   \n",
       "3  d4684dcdc759dd9cdf41504698d737d8  2016-06-20 08:49:52 +0000   \n",
       "4  6325b6870c54cd47be6ebfbffa620ec7  2016-06-20 08:49:52 +0000   \n",
       "\n",
       "                                         product_url  \\\n",
       "0  http://www.flipkart.com/elegance-polyester-mul...   \n",
       "1  http://www.flipkart.com/sathiyas-cotton-bath-t...   \n",
       "2  http://www.flipkart.com/eurospa-cotton-terry-f...   \n",
       "3  http://www.flipkart.com/santosh-royal-fashion-...   \n",
       "4  http://www.flipkart.com/jaipur-print-cotton-fl...   \n",
       "\n",
       "                                        product_name  \\\n",
       "0  Elegance Polyester Multicolor Abstract Eyelet ...   \n",
       "1                         Sathiyas Cotton Bath Towel   \n",
       "2                Eurospa Cotton Terry Face Towel Set   \n",
       "3  SANTOSH ROYAL FASHION Cotton Printed King size...   \n",
       "4  Jaipur Print Cotton Floral King sized Double B...   \n",
       "\n",
       "                               product_category_tree               pid  \\\n",
       "0  [\"Home Furnishing >> Curtains & Accessories >>...  CRNEG7BKMFFYHQ8Z   \n",
       "1  [\"Baby Care >> Baby Bath & Skin >> Baby Bath T...  BTWEGFZHGBXPHZUH   \n",
       "2  [\"Baby Care >> Baby Bath & Skin >> Baby Bath T...  BTWEG6SHXTDB2A2Y   \n",
       "3  [\"Home Furnishing >> Bed Linen >> Bedsheets >>...  BDSEJT9UQWHDUBH4   \n",
       "4  [\"Home Furnishing >> Bed Linen >> Bedsheets >>...  BDSEJTHNGWVGWWQU   \n",
       "\n",
       "   retail_price  discounted_price                                 image  \\\n",
       "0        1899.0             899.0  55b85ea15a1536d46b7190ad6fff8ce7.jpg   \n",
       "1         600.0             449.0  7b72c92c2f6c40268628ec5f14c6d590.jpg   \n",
       "2           NaN               NaN  64d5d4a258243731dc7bbb1eef49ad74.jpg   \n",
       "3        2699.0            1299.0  d4684dcdc759dd9cdf41504698d737d8.jpg   \n",
       "4        2599.0             698.0  6325b6870c54cd47be6ebfbffa620ec7.jpg   \n",
       "\n",
       "   is_FK_Advantage_product                                        description  \\\n",
       "0                    False  Key Features of Elegance Polyester Multicolor ...   \n",
       "1                    False  Specifications of Sathiyas Cotton Bath Towel (...   \n",
       "2                    False  Key Features of Eurospa Cotton Terry Face Towe...   \n",
       "3                    False  Key Features of SANTOSH ROYAL FASHION Cotton P...   \n",
       "4                    False  Key Features of Jaipur Print Cotton Floral Kin...   \n",
       "\n",
       "        product_rating       overall_rating                  brand  \\\n",
       "0  No rating available  No rating available               Elegance   \n",
       "1  No rating available  No rating available               Sathiyas   \n",
       "2  No rating available  No rating available                Eurospa   \n",
       "3  No rating available  No rating available  SANTOSH ROYAL FASHION   \n",
       "4  No rating available  No rating available           Jaipur Print   \n",
       "\n",
       "                              product_specifications  \n",
       "0  {\"product_specification\"=>[{\"key\"=>\"Brand\", \"v...  \n",
       "1  {\"product_specification\"=>[{\"key\"=>\"Machine Wa...  \n",
       "2  {\"product_specification\"=>[{\"key\"=>\"Material\",...  \n",
       "3  {\"product_specification\"=>[{\"key\"=>\"Brand\", \"v...  \n",
       "4  {\"product_specification\"=>[{\"key\"=>\"Machine Wa...  "
      ]
     },
     "execution_count": 2,
     "metadata": {},
     "output_type": "execute_result"
    }
   ],
   "source": [
    "df = pd.read_csv('data.csv')\n",
    "df.head()"
   ]
  },
  {
   "cell_type": "markdown",
   "id": "1156c5d2",
   "metadata": {},
   "source": [
    "### Aperçu des données"
   ]
  },
  {
   "cell_type": "code",
   "execution_count": 3,
   "id": "a758e215",
   "metadata": {},
   "outputs": [
    {
     "name": "stdout",
     "output_type": "stream",
     "text": [
      "Dimensions du jeu de données : (1050, 15)\n"
     ]
    }
   ],
   "source": [
    "print(\"Dimensions du jeu de données :\", df.shape)"
   ]
  },
  {
   "cell_type": "markdown",
   "id": "8c2fae70",
   "metadata": {},
   "source": [
    "Le jeu de données comprend 1 050 observations et 15 variables. Parmi celles-ci, trois variables sont particulièrement intéressantes pour notre projet :\n",
    "\n",
    "- `product_category_tree` : Représente la catégorie du produit, qui servira de variable cible pour notre tâche de classification.\n",
    "- `description` : Fournit une description textuelle détaillée du produit, à partir de laquelle nous allons extraire des informations pertinentes pour la classification.\n",
    "- `image` : Contient le nom du fichier image associé à chaque produit. Nous intégrerons ces images dans un second temps pour enrichir notre modèle de classification."
   ]
  },
  {
   "cell_type": "code",
   "execution_count": 4,
   "id": "a1d4ca70",
   "metadata": {},
   "outputs": [
    {
     "data": {
      "text/html": [
       "<div>\n",
       "<style scoped>\n",
       "    .dataframe tbody tr th:only-of-type {\n",
       "        vertical-align: middle;\n",
       "    }\n",
       "\n",
       "    .dataframe tbody tr th {\n",
       "        vertical-align: top;\n",
       "    }\n",
       "\n",
       "    .dataframe thead th {\n",
       "        text-align: right;\n",
       "    }\n",
       "</style>\n",
       "<table border=\"1\" class=\"dataframe\">\n",
       "  <thead>\n",
       "    <tr style=\"text-align: right;\">\n",
       "      <th></th>\n",
       "      <th>product_category_tree</th>\n",
       "      <th>description</th>\n",
       "      <th>image</th>\n",
       "    </tr>\n",
       "  </thead>\n",
       "  <tbody>\n",
       "    <tr>\n",
       "      <th>0</th>\n",
       "      <td>[\"Home Furnishing &gt;&gt; Curtains &amp; Accessories &gt;&gt;...</td>\n",
       "      <td>Key Features of Elegance Polyester Multicolor ...</td>\n",
       "      <td>55b85ea15a1536d46b7190ad6fff8ce7.jpg</td>\n",
       "    </tr>\n",
       "    <tr>\n",
       "      <th>1</th>\n",
       "      <td>[\"Baby Care &gt;&gt; Baby Bath &amp; Skin &gt;&gt; Baby Bath T...</td>\n",
       "      <td>Specifications of Sathiyas Cotton Bath Towel (...</td>\n",
       "      <td>7b72c92c2f6c40268628ec5f14c6d590.jpg</td>\n",
       "    </tr>\n",
       "    <tr>\n",
       "      <th>2</th>\n",
       "      <td>[\"Baby Care &gt;&gt; Baby Bath &amp; Skin &gt;&gt; Baby Bath T...</td>\n",
       "      <td>Key Features of Eurospa Cotton Terry Face Towe...</td>\n",
       "      <td>64d5d4a258243731dc7bbb1eef49ad74.jpg</td>\n",
       "    </tr>\n",
       "    <tr>\n",
       "      <th>3</th>\n",
       "      <td>[\"Home Furnishing &gt;&gt; Bed Linen &gt;&gt; Bedsheets &gt;&gt;...</td>\n",
       "      <td>Key Features of SANTOSH ROYAL FASHION Cotton P...</td>\n",
       "      <td>d4684dcdc759dd9cdf41504698d737d8.jpg</td>\n",
       "    </tr>\n",
       "    <tr>\n",
       "      <th>4</th>\n",
       "      <td>[\"Home Furnishing &gt;&gt; Bed Linen &gt;&gt; Bedsheets &gt;&gt;...</td>\n",
       "      <td>Key Features of Jaipur Print Cotton Floral Kin...</td>\n",
       "      <td>6325b6870c54cd47be6ebfbffa620ec7.jpg</td>\n",
       "    </tr>\n",
       "  </tbody>\n",
       "</table>\n",
       "</div>"
      ],
      "text/plain": [
       "                               product_category_tree  \\\n",
       "0  [\"Home Furnishing >> Curtains & Accessories >>...   \n",
       "1  [\"Baby Care >> Baby Bath & Skin >> Baby Bath T...   \n",
       "2  [\"Baby Care >> Baby Bath & Skin >> Baby Bath T...   \n",
       "3  [\"Home Furnishing >> Bed Linen >> Bedsheets >>...   \n",
       "4  [\"Home Furnishing >> Bed Linen >> Bedsheets >>...   \n",
       "\n",
       "                                         description  \\\n",
       "0  Key Features of Elegance Polyester Multicolor ...   \n",
       "1  Specifications of Sathiyas Cotton Bath Towel (...   \n",
       "2  Key Features of Eurospa Cotton Terry Face Towe...   \n",
       "3  Key Features of SANTOSH ROYAL FASHION Cotton P...   \n",
       "4  Key Features of Jaipur Print Cotton Floral Kin...   \n",
       "\n",
       "                                  image  \n",
       "0  55b85ea15a1536d46b7190ad6fff8ce7.jpg  \n",
       "1  7b72c92c2f6c40268628ec5f14c6d590.jpg  \n",
       "2  64d5d4a258243731dc7bbb1eef49ad74.jpg  \n",
       "3  d4684dcdc759dd9cdf41504698d737d8.jpg  \n",
       "4  6325b6870c54cd47be6ebfbffa620ec7.jpg  "
      ]
     },
     "execution_count": 4,
     "metadata": {},
     "output_type": "execute_result"
    }
   ],
   "source": [
    "df = df[['product_category_tree', 'description', 'image']]\n",
    "df.head()"
   ]
  },
  {
   "cell_type": "code",
   "execution_count": 5,
   "id": "3312659f",
   "metadata": {},
   "outputs": [
    {
     "name": "stdout",
     "output_type": "stream",
     "text": [
      "<class 'pandas.core.frame.DataFrame'>\n",
      "RangeIndex: 1050 entries, 0 to 1049\n",
      "Data columns (total 3 columns):\n",
      " #   Column                 Non-Null Count  Dtype \n",
      "---  ------                 --------------  ----- \n",
      " 0   product_category_tree  1050 non-null   object\n",
      " 1   description            1050 non-null   object\n",
      " 2   image                  1050 non-null   object\n",
      "dtypes: object(3)\n",
      "memory usage: 24.7+ KB\n"
     ]
    }
   ],
   "source": [
    "df.info()"
   ]
  },
  {
   "cell_type": "markdown",
   "id": "6fd7fbff",
   "metadata": {},
   "source": [
    "Le jeu de données ne contient aucune valeur manquante."
   ]
  },
  {
   "cell_type": "code",
   "execution_count": 6,
   "id": "e25cd102",
   "metadata": {},
   "outputs": [
    {
     "data": {
      "text/plain": [
       "product_category_tree     642\n",
       "description              1050\n",
       "image                    1050\n",
       "dtype: int64"
      ]
     },
     "execution_count": 6,
     "metadata": {},
     "output_type": "execute_result"
    }
   ],
   "source": [
    "# Nombre de classes uniques pour chaque variable catégorielle\n",
    "df.select_dtypes('object').apply(pd.Series.nunique, axis = 0)"
   ]
  },
  {
   "cell_type": "markdown",
   "id": "3ff4bbe7",
   "metadata": {},
   "source": [
    "### Création de la variable target\n",
    "\n",
    "Nous allons extraire la catégorie principale de chaque produit à partir de la variable `product_category_tree` afin de créer notre variable cible pour la classification :"
   ]
  },
  {
   "cell_type": "code",
   "execution_count": 7,
   "id": "1e98c44a",
   "metadata": {},
   "outputs": [],
   "source": [
    "# Fonction pour extraire la catégorie générale de la variable 'product_category_tree'\n",
    "def extract_general_category(text):\n",
    "    \"\"\"\n",
    "    Extrait la catégorie la plus générale à partir de la variable 'product_category_tree'.\n",
    "    \n",
    "    Cette fonction prend en entrée une chaîne de caractères représentant la hiérarchie des catégories d'un produit \n",
    "    (séparées par '>>') et retourne la catégorie la plus générale. Elle supprime également les caractères \n",
    "    indésirables tels que '[' et '\"', ainsi que les espaces en trop autour du texte.\n",
    "\n",
    "    Paramètres :\n",
    "    ----------\n",
    "    text : str\n",
    "        Chaîne de caractères représentant la hiérarchie des catégories d'un produit (ex: \"[\\\"Electronics >> Mobiles >> Smartphones\\\"]\").\n",
    "\n",
    "    Retourne :\n",
    "    -------\n",
    "    str\n",
    "        La catégorie la plus générale du produit (ex: \"Home Furnishing\").\n",
    "    \"\"\"\n",
    "    # Diviser la chaîne en sous-catégories en utilisant '>>' comme séparateur\n",
    "    parts = text.split(\">>\")\n",
    "    \n",
    "    # Vérifier si la liste des parties n'est pas vide et extraire la première catégorie\n",
    "    if len(parts) > 0:\n",
    "        general_category = parts[0].strip()  # Supprimer les espaces en trop autour du texte\n",
    "        general_category = general_category.replace('[', '').replace('\"', '')  # Supprimer les caractères indésirables '[' et '\"'\n",
    "        return general_category\n",
    "    else:\n",
    "        # Si la chaîne ne contient pas '>>', retourner le texte original\n",
    "        return text"
   ]
  },
  {
   "cell_type": "code",
   "execution_count": 8,
   "id": "5a9e66f4",
   "metadata": {},
   "outputs": [
    {
     "data": {
      "text/html": [
       "<div>\n",
       "<style scoped>\n",
       "    .dataframe tbody tr th:only-of-type {\n",
       "        vertical-align: middle;\n",
       "    }\n",
       "\n",
       "    .dataframe tbody tr th {\n",
       "        vertical-align: top;\n",
       "    }\n",
       "\n",
       "    .dataframe thead th {\n",
       "        text-align: right;\n",
       "    }\n",
       "</style>\n",
       "<table border=\"1\" class=\"dataframe\">\n",
       "  <thead>\n",
       "    <tr style=\"text-align: right;\">\n",
       "      <th></th>\n",
       "      <th>description</th>\n",
       "      <th>image</th>\n",
       "      <th>target</th>\n",
       "    </tr>\n",
       "  </thead>\n",
       "  <tbody>\n",
       "    <tr>\n",
       "      <th>0</th>\n",
       "      <td>Key Features of Elegance Polyester Multicolor ...</td>\n",
       "      <td>55b85ea15a1536d46b7190ad6fff8ce7.jpg</td>\n",
       "      <td>Home Furnishing</td>\n",
       "    </tr>\n",
       "    <tr>\n",
       "      <th>1</th>\n",
       "      <td>Specifications of Sathiyas Cotton Bath Towel (...</td>\n",
       "      <td>7b72c92c2f6c40268628ec5f14c6d590.jpg</td>\n",
       "      <td>Baby Care</td>\n",
       "    </tr>\n",
       "    <tr>\n",
       "      <th>2</th>\n",
       "      <td>Key Features of Eurospa Cotton Terry Face Towe...</td>\n",
       "      <td>64d5d4a258243731dc7bbb1eef49ad74.jpg</td>\n",
       "      <td>Baby Care</td>\n",
       "    </tr>\n",
       "    <tr>\n",
       "      <th>3</th>\n",
       "      <td>Key Features of SANTOSH ROYAL FASHION Cotton P...</td>\n",
       "      <td>d4684dcdc759dd9cdf41504698d737d8.jpg</td>\n",
       "      <td>Home Furnishing</td>\n",
       "    </tr>\n",
       "    <tr>\n",
       "      <th>4</th>\n",
       "      <td>Key Features of Jaipur Print Cotton Floral Kin...</td>\n",
       "      <td>6325b6870c54cd47be6ebfbffa620ec7.jpg</td>\n",
       "      <td>Home Furnishing</td>\n",
       "    </tr>\n",
       "  </tbody>\n",
       "</table>\n",
       "</div>"
      ],
      "text/plain": [
       "                                         description  \\\n",
       "0  Key Features of Elegance Polyester Multicolor ...   \n",
       "1  Specifications of Sathiyas Cotton Bath Towel (...   \n",
       "2  Key Features of Eurospa Cotton Terry Face Towe...   \n",
       "3  Key Features of SANTOSH ROYAL FASHION Cotton P...   \n",
       "4  Key Features of Jaipur Print Cotton Floral Kin...   \n",
       "\n",
       "                                  image           target  \n",
       "0  55b85ea15a1536d46b7190ad6fff8ce7.jpg  Home Furnishing  \n",
       "1  7b72c92c2f6c40268628ec5f14c6d590.jpg        Baby Care  \n",
       "2  64d5d4a258243731dc7bbb1eef49ad74.jpg        Baby Care  \n",
       "3  d4684dcdc759dd9cdf41504698d737d8.jpg  Home Furnishing  \n",
       "4  6325b6870c54cd47be6ebfbffa620ec7.jpg  Home Furnishing  "
      ]
     },
     "execution_count": 8,
     "metadata": {},
     "output_type": "execute_result"
    }
   ],
   "source": [
    "# Application de la fonction\n",
    "df['target'] = df['product_category_tree'].apply(extract_general_category)\n",
    "\n",
    "# Suppression de la colonne 'product_category_tree' qui ne nous sera plus utile\n",
    "df = df.drop(columns='product_category_tree')\n",
    "\n",
    "df.head()"
   ]
  },
  {
   "cell_type": "markdown",
   "id": "41556b91",
   "metadata": {},
   "source": [
    "Observons plus en détail la variable cible :"
   ]
  },
  {
   "cell_type": "code",
   "execution_count": 9,
   "id": "15a391fc",
   "metadata": {},
   "outputs": [
    {
     "data": {
      "text/plain": [
       "target\n",
       "Home Furnishing               150\n",
       "Baby Care                     150\n",
       "Watches                       150\n",
       "Home Decor & Festive Needs    150\n",
       "Kitchen & Dining              150\n",
       "Beauty and Personal Care      150\n",
       "Computers                     150\n",
       "Name: count, dtype: int64"
      ]
     },
     "execution_count": 9,
     "metadata": {},
     "output_type": "execute_result"
    }
   ],
   "source": [
    "# Nombre d'observations par classe\n",
    "df['target'].value_counts()"
   ]
  },
  {
   "cell_type": "code",
   "execution_count": 10,
   "id": "8fd183e1",
   "metadata": {},
   "outputs": [
    {
     "data": {
      "image/png": "[encoded data removed]",
      "text/plain": [
       "<Figure size 640x480 with 1 Axes>"
      ]
     },
     "metadata": {},
     "output_type": "display_data"
    }
   ],
   "source": [
    "df.target.value_counts().plot(kind=\"pie\")\n",
    "plt.ylabel('')\n",
    "plt.show()"
   ]
  },
  {
   "cell_type": "markdown",
   "id": "940dd720",
   "metadata": {},
   "source": [
    "On peut observer que chaque catégorie est composée de 150 produits."
   ]
  },
  {
   "cell_type": "markdown",
   "id": "292cfe84",
   "metadata": {},
   "source": [
    "## Nettoyage des données textuelles\n",
    "\n",
    "Dans cette partie, nous allons nettoyer les données textuelles contenues dans la variable `description`."
   ]
  },
  {
   "cell_type": "code",
   "execution_count": 11,
   "id": "54a50a12",
   "metadata": {},
   "outputs": [
    {
     "data": {
      "text/plain": [
       "'Key Features of Elegance Polyester Multicolor Abstract Eyelet Door Curtain Floral Curtain,Elegance Polyester Multicolor Abstract Eyelet Door Curtain (213 cm in Height, Pack of 2) Price: Rs. 899 This curtain enhances the look of the interiors.This curtain is made from 100% high quality polyester fabric.It features an eyelet style stitch with Metal Ring.It makes the room environment romantic and loving.This curtain is ant- wrinkle and anti shrinkage and have elegant apparance.Give your home a bright and modernistic appeal with these designs. The surreal attention is sure to steal hearts. These contemporary eyelet and valance curtains slide smoothly so when you draw them apart first thing in the morning to welcome the bright sun rays you want to wish good morning to the whole world and when you draw them close in the evening, you create the most special moments of joyous beauty given by the soothing prints. Bring home the elegant curtain that softly filters light in your room so that you '"
      ]
     },
     "execution_count": 11,
     "metadata": {},
     "output_type": "execute_result"
    }
   ],
   "source": [
    "corpus = \"\".join(df.description.values)\n",
    "corpus[:1000]"
   ]
  },
  {
   "cell_type": "markdown",
   "id": "9705b3fe",
   "metadata": {},
   "source": [
    "### Tokenisation\n",
    "Commençons séparé notre texte en unité de mots (tokens) :"
   ]
  },
  {
   "cell_type": "code",
   "execution_count": 12,
   "id": "82b207a3",
   "metadata": {},
   "outputs": [],
   "source": [
    "tokenizer = RegexpTokenizer(r\"\\w+\") # Suppression de la ponctuation\n",
    "tokens = tokenizer.tokenize(corpus)"
   ]
  },
  {
   "cell_type": "markdown",
   "id": "364c774f",
   "metadata": {},
   "source": [
    "Développement d'une fonction d'affichage du nombre de tokens :"
   ]
  },
  {
   "cell_type": "code",
   "execution_count": 13,
   "id": "1440ec5b",
   "metadata": {},
   "outputs": [],
   "source": [
    "def display_tokens_info(tokens):\n",
    "    \"\"\"\n",
    "    Affiche des informations sur le corpus de tokens.\n",
    "\n",
    "    Args:\n",
    "        tokens (list): Une liste de tokens.\n",
    "\n",
    "    \"\"\"\n",
    "    # Calcul du nombre de tokens et du nombre de tokens uniques\n",
    "    num_tokens = len(tokens)\n",
    "    num_unique_tokens = len(set(tokens))\n",
    "    \n",
    "    # Affichage des informations\n",
    "    print(f\"Nombre de tokens : {num_tokens}\\nNombre de tokens uniques : {num_unique_tokens}\")"
   ]
  },
  {
   "cell_type": "code",
   "execution_count": 14,
   "id": "c5f8be35",
   "metadata": {},
   "outputs": [
    {
     "name": "stdout",
     "output_type": "stream",
     "text": [
      "Nombre de tokens : 81219\n",
      "Nombre de tokens uniques : 7873\n"
     ]
    }
   ],
   "source": [
    "display_tokens_info(tokens)"
   ]
  },
  {
   "cell_type": "markdown",
   "id": "783f722b",
   "metadata": {},
   "source": [
    "### Normalisation du texte\n",
    "Conversion en minuscules pour éviter les doublons :"
   ]
  },
  {
   "cell_type": "code",
   "execution_count": 15,
   "id": "90c80554",
   "metadata": {},
   "outputs": [
    {
     "name": "stdout",
     "output_type": "stream",
     "text": [
      "['key', 'features', 'of', 'elegance', 'polyester', 'multicolor', 'abstract', 'eyelet', 'door', 'curtain']\n"
     ]
    }
   ],
   "source": [
    "tokens = [token.lower() for token in tokens]\n",
    "print(tokens[:10])"
   ]
  },
  {
   "cell_type": "code",
   "execution_count": 16,
   "id": "bead27a9",
   "metadata": {},
   "outputs": [
    {
     "name": "stdout",
     "output_type": "stream",
     "text": [
      "Nombre de tokens : 81219\n",
      "Nombre de tokens uniques : 6284\n"
     ]
    }
   ],
   "source": [
    "display_tokens_info(tokens)"
   ]
  },
  {
   "cell_type": "markdown",
   "id": "98de583c",
   "metadata": {},
   "source": [
    "### Suppression des stopwords\n",
    "Les stopwords sont les mots très courants dans la langue étudiée (\"et\", \"à\", \"le\"... en français) qui **n'apportent pas de valeur informative** pour la compréhension du \"sens\" d'un document et corpus."
   ]
  },
  {
   "cell_type": "code",
   "execution_count": 17,
   "id": "c092b0fd",
   "metadata": {},
   "outputs": [
    {
     "name": "stdout",
     "output_type": "stream",
     "text": [
      "{'hers', \"haven't\", 'our', 'him', 'after', 'in', 'y', 'weren', 'be', 'again', 'very', 'wasn', 'there', 'before', 'she', 't', 'them', 'was', \"don't\", 'no', 'her', 'me', 'it', \"needn't\", 'itself', 'will', \"hadn't\", 'those', 'doing', 'ain', \"doesn't\", \"shan't\", \"you've\", 'herself', \"that'll\", 'its', 'too', 'don', 'whom', 'about', 'same', 'each', 'any', 'these', 'can', 'does', 'own', 'how', 'yourselves', 'has', 'some', 'so', 'were', 'during', 'to', 'do', 'an', 'your', 'such', 'hasn', 'd', 'further', \"you'll\", \"should've\", 'if', 'between', 'the', 'through', 'aren', 'mustn', 'most', 'having', 'that', 'did', 'yours', 'from', 'mightn', 'down', 'needn', 'being', \"hasn't\", 'when', 'theirs', 'yourself', 'where', \"didn't\", \"wouldn't\", \"it's\", \"isn't\", 'ma', 'o', 'once', 'at', 'not', \"shouldn't\", 'his', 'couldn', \"you'd\", 'below', \"mightn't\", 'nor', 'been', 'won', 'only', \"aren't\", 'or', \"mustn't\", 'until', 'they', 'because', 'he', \"weren't\", 'isn', 'shan', 'why', 'more', \"you're\", 'll', 'both', 'is', 'into', 'than', 've', 'as', 'for', 'who', 'over', 'off', 'on', 'with', 'up', 'doesn', 'of', 'ourselves', 'am', 'under', 'just', 'wouldn', 'myself', 'had', 'here', 'hadn', \"won't\", 'm', 'all', 'other', \"wasn't\", 'but', 'by', 'their', 'a', \"she's\", 'themselves', 'shouldn', 'my', 'and', 'above', 'i', 'few', 'haven', 'now', 'what', 'this', 'while', 'against', 's', 'didn', 'out', 'we', 'should', 'which', \"couldn't\", 'you', 'ours', 'are', 'then', 'have', 'himself', 're'}\n"
     ]
    }
   ],
   "source": [
    "# Liste de stopwords\n",
    "stop_words = set(stopwords.words('english'))\n",
    "print(stop_words)"
   ]
  },
  {
   "cell_type": "code",
   "execution_count": 18,
   "id": "c92d3398",
   "metadata": {},
   "outputs": [
    {
     "name": "stdout",
     "output_type": "stream",
     "text": [
      "Nombre de tokens : 61452\n",
      "Nombre de tokens uniques : 6165\n"
     ]
    }
   ],
   "source": [
    "tokens = [token for token in tokens if token not in stop_words]\n",
    "display_tokens_info(tokens)"
   ]
  },
  {
   "cell_type": "markdown",
   "id": "06ae4aea",
   "metadata": {},
   "source": [
    "### Suppression des mots contenant des caractères numériques\n",
    "Les mots contenant des caractères numériques n'apportent généralement pas de valeur sémantique utile à l'analyse textuelle."
   ]
  },
  {
   "cell_type": "code",
   "execution_count": 19,
   "id": "53f4715c",
   "metadata": {},
   "outputs": [
    {
     "name": "stdout",
     "output_type": "stream",
     "text": [
      "Nombre de tokens : 55723\n",
      "Nombre de tokens uniques : 5082\n"
     ]
    }
   ],
   "source": [
    "tmp = [''.join([w for w in token if not any(char.isdigit() for char in w)]) for token in tokens]\n",
    "tokens = [w for w in tmp if w in tokens]\n",
    "display_tokens_info(tokens)"
   ]
  },
  {
   "cell_type": "markdown",
   "id": "2eafb245",
   "metadata": {},
   "source": [
    "### Suppression des mots rares\n",
    "Les mots rares peuvent souvent être du bruit, c'est-à-dire des termes peu informatifs ou des erreurs dans le texte (fautes de frappe, termes mal orthographiés, etc.). Nous allons donc supprimer les mots qui n'apparaissent qu'une seule fois :"
   ]
  },
  {
   "cell_type": "code",
   "execution_count": 20,
   "id": "9b20ed92",
   "metadata": {},
   "outputs": [
    {
     "name": "stdout",
     "output_type": "stream",
     "text": [
      "Nombre de tokens qui n'apparaissent qu'une seule fois sur l'ensemble du corpus : 1584\n"
     ]
    }
   ],
   "source": [
    "tmp = pd.Series(tokens).value_counts()\n",
    "list_unique_words = list(tmp[tmp==1].index)\n",
    "print(f\"Nombre de tokens qui n'apparaissent qu'une seule fois sur l'ensemble du corpus : {len(list_unique_words)}\")"
   ]
  },
  {
   "cell_type": "code",
   "execution_count": 21,
   "id": "5e742c50",
   "metadata": {},
   "outputs": [
    {
     "name": "stdout",
     "output_type": "stream",
     "text": [
      "Nombre de tokens : 54139\n",
      "Nombre de tokens uniques : 3498\n"
     ]
    }
   ],
   "source": [
    "tokens = [token for token in tokens if token not in list_unique_words]\n",
    "display_tokens_info(tokens)"
   ]
  },
  {
   "cell_type": "markdown",
   "id": "4c4032ca",
   "metadata": {},
   "source": [
    "### Suppression des mots fréquents\n",
    "Tout comme les stopwords, les mots fréquents du corpus n'apportent pas de valeur informative pour la compréhension de son sens."
   ]
  },
  {
   "cell_type": "code",
   "execution_count": 22,
   "id": "682868c8",
   "metadata": {},
   "outputs": [
    {
     "data": {
      "text/plain": [
       "rs                911\n",
       "products          631\n",
       "free              618\n",
       "delivery          567\n",
       "shipping          564\n",
       "cash              564\n",
       "genuine           564\n",
       "replacement       559\n",
       "buy               547\n",
       "cm                541\n",
       "day               540\n",
       "flipkart          476\n",
       "guarantee         471\n",
       "com               468\n",
       "online            396\n",
       "features          395\n",
       "price             352\n",
       "watch             329\n",
       "color             328\n",
       "baby              320\n",
       "mug               318\n",
       "pack              317\n",
       "material          312\n",
       "set               307\n",
       "specifications    305\n",
       "type              304\n",
       "cotton            299\n",
       "box               291\n",
       "general           288\n",
       "package           269\n",
       "Name: count, dtype: int64"
      ]
     },
     "execution_count": 22,
     "metadata": {},
     "output_type": "execute_result"
    }
   ],
   "source": [
    "tmp.head(30)"
   ]
  },
  {
   "cell_type": "markdown",
   "id": "51396118",
   "metadata": {},
   "source": [
    "Nous allons supprimer les mots dont l'occurence dépasse 250 car il s'agit de mots génériques qui ne vont pas nous aider à différencier la catégorie des produits."
   ]
  },
  {
   "cell_type": "code",
   "execution_count": 23,
   "id": "3a899d04",
   "metadata": {},
   "outputs": [
    {
     "name": "stdout",
     "output_type": "stream",
     "text": [
      "Nombre de tokens qui apparaissent plus de 250 fois sur l'ensemble du corpus : 33\n"
     ]
    }
   ],
   "source": [
    "list_common_words = list(tmp[tmp>250].index)\n",
    "print(f\"Nombre de tokens qui apparaissent plus de 250 fois sur l'ensemble du corpus : {len(list_common_words)}\")"
   ]
  },
  {
   "cell_type": "code",
   "execution_count": 24,
   "id": "9a1a8d4e",
   "metadata": {},
   "outputs": [
    {
     "name": "stdout",
     "output_type": "stream",
     "text": [
      "['rs', 'products', 'free', 'delivery', 'shipping', 'cash', 'genuine', 'replacement', 'buy', 'cm', 'day', 'flipkart', 'guarantee', 'com', 'online', 'features', 'price', 'watch', 'color', 'baby', 'mug', 'pack', 'material', 'set', 'specifications', 'type', 'cotton', 'box', 'general', 'package', 'analog', 'sales', 'number']\n"
     ]
    }
   ],
   "source": [
    "print(list_common_words)"
   ]
  },
  {
   "cell_type": "markdown",
   "id": "9e3b655c",
   "metadata": {},
   "source": [
    "Nous allons conserver les mots 'watch', 'baby', 'mug', 'cotton' et 'analog' qui peuvent potentiellement être utiles au modèle."
   ]
  },
  {
   "cell_type": "code",
   "execution_count": 25,
   "id": "b7ea2d28",
   "metadata": {},
   "outputs": [
    {
     "name": "stdout",
     "output_type": "stream",
     "text": [
      "['rs', 'products', 'free', 'delivery', 'shipping', 'cash', 'genuine', 'replacement', 'buy', 'cm', 'day', 'flipkart', 'guarantee', 'com', 'online', 'features', 'price', 'color', 'pack', 'material', 'set', 'specifications', 'type', 'box', 'general', 'package', 'sales', 'number']\n"
     ]
    }
   ],
   "source": [
    "words = ['watch','baby','mug','cotton','analog']\n",
    "\n",
    "for w in words:\n",
    "    list_common_words.remove(w)\n",
    "\n",
    "print(list_common_words)"
   ]
  },
  {
   "cell_type": "markdown",
   "id": "c4e01077",
   "metadata": {},
   "source": [
    "Suppression des mots fréquents :"
   ]
  },
  {
   "cell_type": "code",
   "execution_count": 26,
   "id": "0ed00c35",
   "metadata": {},
   "outputs": [
    {
     "name": "stdout",
     "output_type": "stream",
     "text": [
      "Nombre de tokens : 41740\n",
      "Nombre de tokens uniques : 3470\n"
     ]
    }
   ],
   "source": [
    "tokens = [token for token in tokens if token not in list_common_words]\n",
    "display_tokens_info(tokens)"
   ]
  },
  {
   "cell_type": "markdown",
   "id": "d0ed6b18",
   "metadata": {},
   "source": [
    "### Lemmatisation ou Stemming\n",
    "\n",
    "La lemmatisation et le stemming sont des techniques qui visent à réduire les variations d’un mot à une forme de base, ce qui permet de normaliser les termes et de simplifier l'analyse. Cependant, ces deux techniques diffèrent dans la manière dont elles fonctionnent :\n",
    "\n",
    "**La lemmatisation** consiste à ramener un mot à sa forme canonique ou à son lemme, c'est-à-dire sa forme de base ou son infinitif (pour un verbe). Contrairement au stemming, la lemmatisation prend en compte le contexte et les règles linguistiques pour identifier la forme correcte d’un mot.\n",
    "\n",
    "**Le stemming** est une approche plus simple et plus agressive. Il consiste à trancher ou à couper les suffixes et préfixes des mots pour en obtenir la racine (ou stem). Cela ne prend pas en compte la forme correcte du mot dans la langue, et se contente de retirer les terminaisons pour obtenir une racine approximative.\n",
    "\n",
    "Ces deux techniques ont donc des impacts différents sur la manière dont les mots sont représentés. Selon la nature du corpus et le modèle utilisé (par exemple, un modèle de classification comme une régression logistique, un SVM, ou un réseau de neurones), l'une de ces techniques pourrait offrir de meilleurs résultats en termes de performance du modèle. Nous allons donc tester ces deux méthodes et sélectionner celle qui permet d'obtenir les meilleures performances de classification."
   ]
  },
  {
   "cell_type": "code",
   "execution_count": 27,
   "id": "9ca0a7f1",
   "metadata": {},
   "outputs": [
    {
     "name": "stdout",
     "output_type": "stream",
     "text": [
      "Nombre de tokens : 41740\n",
      "Nombre de tokens uniques : 3202\n"
     ]
    }
   ],
   "source": [
    "# Lemmatisation\n",
    "wordNetLemmatizer = WordNetLemmatizer()\n",
    "lem_tokens = [wordNetLemmatizer.lemmatize(token) for token in tokens]\n",
    "display_tokens_info(lem_tokens)"
   ]
  },
  {
   "cell_type": "code",
   "execution_count": 28,
   "id": "3911ae86",
   "metadata": {},
   "outputs": [
    {
     "name": "stdout",
     "output_type": "stream",
     "text": [
      "Nombre de tokens : 41740\n",
      "Nombre de tokens uniques : 2859\n"
     ]
    }
   ],
   "source": [
    "# Stemming\n",
    "porterStemmer = PorterStemmer()\n",
    "stem_tokens = [porterStemmer.stem(token) for token in tokens]\n",
    "display_tokens_info(stem_tokens)"
   ]
  },
  {
   "cell_type": "markdown",
   "id": "62c7be97",
   "metadata": {},
   "source": [
    "Les étapes de nettoyage ont permis de réduire le corpus de 81 219 tokens (dont 7 873 uniques) à un corpus plus compact de 41 740 tokens. Après le traitement, le corpus lemmatisé contient 3 202 tokens uniques, tandis que le corpus stemmé en contient 2 859. Cela montre une réduction significative du nombre de termes, facilitant l’analyse tout en préservant le sens du contenu."
   ]
  },
  {
   "cell_type": "markdown",
   "id": "f7d77e96",
   "metadata": {},
   "source": [
    "### Fonction de nettoyage"
   ]
  },
  {
   "cell_type": "code",
   "execution_count": 29,
   "id": "e7c16c6a",
   "metadata": {},
   "outputs": [],
   "source": [
    "def clean_corpus(doc, rejoin=False, lem_or_stem=\"lem\", list_rare_words=None, list_common_words=None):\n",
    "    \"\"\"\n",
    "    Fonction de nettoyage des données textuelles.\n",
    "\n",
    "    Paramètres :\n",
    "        doc (str): Le document texte à nettoyer.\n",
    "        rejoin (bool, optional): Indique si les tokens nettoyés doivent être rejoints en une chaîne de caractères. \n",
    "                                 Par défaut, False.\n",
    "        lem_or_stem (str, optional): Indique si la lemmatisation ('lem') ou le stemming ('stem') doit être appliqué.\n",
    "                                     Par défaut, 'lem'.\n",
    "        list_rare_words (list, optional): Liste de mots rares à supprimer. Par défaut, None.\n",
    "        list_common_words (list, optional): Liste de mots courants à supprimer. Par défaut, None.\n",
    "\n",
    "    Retourne :\n",
    "        list/str: Une liste de tokens nettoyés si `rejoin` est False, sinon une chaîne de caractères.\n",
    "\n",
    "    \"\"\"   \n",
    "    # Tokenisation\n",
    "    tokenizer = RegexpTokenizer(r\"\\w+\")\n",
    "    tokens = tokenizer.tokenize(doc)\n",
    "    \n",
    "    # Conversion en minuscules\n",
    "    tokens = [token.lower() for token in tokens]\n",
    "    \n",
    "    # Suppression des stopwords\n",
    "    stop_words = set(stopwords.words('english'))\n",
    "    tokens = [token for token in tokens if token not in stop_words]\n",
    "    \n",
    "    # Suppression des mots contenant des caractères numériques\n",
    "    tmp = [''.join([w for w in token if not any(char.isdigit() for char in w)]) for token in tokens]\n",
    "    tokens = [w for w in tmp if w in tokens]\n",
    "    \n",
    "    # Suppression des mots rares\n",
    "    tokens = [token for token in tokens if token not in list_rare_words]\n",
    "    \n",
    "    # Suppression des mots fréquents\n",
    "    tokens = [token for token in tokens if token not in list_common_words]\n",
    "    \n",
    "    # Application de la lemmatization ou du stemming\n",
    "    if lem_or_stem == \"lem\":\n",
    "        lemmaWords = WordNetLemmatizer()\n",
    "        tokens = [lemmaWords.lemmatize(token) for token in tokens]\n",
    "    elif lem_or_stem == \"stem\":\n",
    "        stemWords = PorterStemmer()\n",
    "        tokens = [stemWords.stem(token) for token in tokens]\n",
    "    else:\n",
    "        raise ValueError(\"Please specify 'lem' or 'stem' for the lem_or_stem argument.\")\n",
    "    \n",
    "    # Rejoindre les tokens si nécessaire\n",
    "    if rejoin:\n",
    "        return \" \".join(tokens)\n",
    "    \n",
    "    return tokens"
   ]
  },
  {
   "cell_type": "markdown",
   "id": "6d7acd1d",
   "metadata": {},
   "source": [
    "### Nettoyage final\n",
    "Nous allons procéder au nettoyage final de chaque description de produit en créant deux nouvelles colonnes dans le dataframe : l'une avec la lemmatisation et l'autre avec le stemming."
   ]
  },
  {
   "cell_type": "code",
   "execution_count": 30,
   "id": "e83ad5ac",
   "metadata": {},
   "outputs": [],
   "source": [
    "df[\"clean_description_lem\"] = df.description.apply(\n",
    "    lambda doc: clean_corpus(\n",
    "        doc,\n",
    "        rejoin=True,\n",
    "        lem_or_stem=\"lem\",\n",
    "        list_rare_words=list_unique_words,\n",
    "        list_common_words=list_common_words\n",
    "    )\n",
    ")"
   ]
  },
  {
   "cell_type": "code",
   "execution_count": 31,
   "id": "e19ba140",
   "metadata": {},
   "outputs": [],
   "source": [
    "df[\"clean_description_stem\"] = df.description.apply(\n",
    "    lambda doc: clean_corpus(\n",
    "        doc,\n",
    "        rejoin=True,\n",
    "        lem_or_stem=\"stem\",\n",
    "        list_rare_words=list_unique_words,\n",
    "        list_common_words=list_common_words\n",
    "    )\n",
    ")"
   ]
  },
  {
   "cell_type": "code",
   "execution_count": 32,
   "id": "8a91fd3f",
   "metadata": {},
   "outputs": [
    {
     "data": {
      "text/html": [
       "<div>\n",
       "<style scoped>\n",
       "    .dataframe tbody tr th:only-of-type {\n",
       "        vertical-align: middle;\n",
       "    }\n",
       "\n",
       "    .dataframe tbody tr th {\n",
       "        vertical-align: top;\n",
       "    }\n",
       "\n",
       "    .dataframe thead th {\n",
       "        text-align: right;\n",
       "    }\n",
       "</style>\n",
       "<table border=\"1\" class=\"dataframe\">\n",
       "  <thead>\n",
       "    <tr style=\"text-align: right;\">\n",
       "      <th></th>\n",
       "      <th>description</th>\n",
       "      <th>image</th>\n",
       "      <th>target</th>\n",
       "      <th>clean_description_lem</th>\n",
       "      <th>clean_description_stem</th>\n",
       "    </tr>\n",
       "  </thead>\n",
       "  <tbody>\n",
       "    <tr>\n",
       "      <th>0</th>\n",
       "      <td>Key Features of Elegance Polyester Multicolor ...</td>\n",
       "      <td>55b85ea15a1536d46b7190ad6fff8ce7.jpg</td>\n",
       "      <td>Home Furnishing</td>\n",
       "      <td>key elegance polyester multicolor abstract eye...</td>\n",
       "      <td>key eleg polyest multicolor abstract eyelet do...</td>\n",
       "    </tr>\n",
       "    <tr>\n",
       "      <th>1</th>\n",
       "      <td>Specifications of Sathiyas Cotton Bath Towel (...</td>\n",
       "      <td>7b72c92c2f6c40268628ec5f14c6d590.jpg</td>\n",
       "      <td>Baby Care</td>\n",
       "      <td>sathiyas cotton bath towel bath towel red yell...</td>\n",
       "      <td>sathiya cotton bath towel bath towel red yello...</td>\n",
       "    </tr>\n",
       "    <tr>\n",
       "      <th>2</th>\n",
       "      <td>Key Features of Eurospa Cotton Terry Face Towe...</td>\n",
       "      <td>64d5d4a258243731dc7bbb1eef49ad74.jpg</td>\n",
       "      <td>Baby Care</td>\n",
       "      <td>key eurospa cotton terry face towel size small...</td>\n",
       "      <td>key eurospa cotton terri face towel size small...</td>\n",
       "    </tr>\n",
       "    <tr>\n",
       "      <th>3</th>\n",
       "      <td>Key Features of SANTOSH ROYAL FASHION Cotton P...</td>\n",
       "      <td>d4684dcdc759dd9cdf41504698d737d8.jpg</td>\n",
       "      <td>Home Furnishing</td>\n",
       "      <td>key santosh royal fashion cotton printed king ...</td>\n",
       "      <td>key santosh royal fashion cotton print king si...</td>\n",
       "    </tr>\n",
       "    <tr>\n",
       "      <th>4</th>\n",
       "      <td>Key Features of Jaipur Print Cotton Floral Kin...</td>\n",
       "      <td>6325b6870c54cd47be6ebfbffa620ec7.jpg</td>\n",
       "      <td>Home Furnishing</td>\n",
       "      <td>key jaipur print cotton floral king sized doub...</td>\n",
       "      <td>key jaipur print cotton floral king size doubl...</td>\n",
       "    </tr>\n",
       "  </tbody>\n",
       "</table>\n",
       "</div>"
      ],
      "text/plain": [
       "                                         description  \\\n",
       "0  Key Features of Elegance Polyester Multicolor ...   \n",
       "1  Specifications of Sathiyas Cotton Bath Towel (...   \n",
       "2  Key Features of Eurospa Cotton Terry Face Towe...   \n",
       "3  Key Features of SANTOSH ROYAL FASHION Cotton P...   \n",
       "4  Key Features of Jaipur Print Cotton Floral Kin...   \n",
       "\n",
       "                                  image           target  \\\n",
       "0  55b85ea15a1536d46b7190ad6fff8ce7.jpg  Home Furnishing   \n",
       "1  7b72c92c2f6c40268628ec5f14c6d590.jpg        Baby Care   \n",
       "2  64d5d4a258243731dc7bbb1eef49ad74.jpg        Baby Care   \n",
       "3  d4684dcdc759dd9cdf41504698d737d8.jpg  Home Furnishing   \n",
       "4  6325b6870c54cd47be6ebfbffa620ec7.jpg  Home Furnishing   \n",
       "\n",
       "                               clean_description_lem  \\\n",
       "0  key elegance polyester multicolor abstract eye...   \n",
       "1  sathiyas cotton bath towel bath towel red yell...   \n",
       "2  key eurospa cotton terry face towel size small...   \n",
       "3  key santosh royal fashion cotton printed king ...   \n",
       "4  key jaipur print cotton floral king sized doub...   \n",
       "\n",
       "                              clean_description_stem  \n",
       "0  key eleg polyest multicolor abstract eyelet do...  \n",
       "1  sathiya cotton bath towel bath towel red yello...  \n",
       "2  key eurospa cotton terri face towel size small...  \n",
       "3  key santosh royal fashion cotton print king si...  \n",
       "4  key jaipur print cotton floral king size doubl...  "
      ]
     },
     "execution_count": 32,
     "metadata": {},
     "output_type": "execute_result"
    }
   ],
   "source": [
    "df.head()"
   ]
  },
  {
   "cell_type": "markdown",
   "id": "25f4f592",
   "metadata": {},
   "source": [
    "### Séparation de la variable cible des variables prédictives "
   ]
  },
  {
   "cell_type": "code",
   "execution_count": 33,
   "id": "1011a002",
   "metadata": {},
   "outputs": [],
   "source": [
    "y = df['target']\n",
    "\n",
    "# Jeu de données nettoyé avec la lemmatisation\n",
    "X_lem = df['clean_description_lem']\n",
    "\n",
    "# Jeu de données nettoyé avec le stemming\n",
    "X_stem = df['clean_description_stem']"
   ]
  },
  {
   "cell_type": "markdown",
   "id": "781460cc",
   "metadata": {},
   "source": [
    "### Séparation des données en deux ensembles : entraînement et test"
   ]
  },
  {
   "cell_type": "code",
   "execution_count": 34,
   "id": "0dcd35a7",
   "metadata": {},
   "outputs": [],
   "source": [
    "X_train_lem, X_test_lem, y_train, y_test = train_test_split(X_lem, y, test_size=0.25, random_state=42)\n",
    "\n",
    "# Obtenir les indices de train et de test\n",
    "train_indices = X_train_lem.index\n",
    "test_indices = X_test_lem.index\n",
    "\n",
    "# Appliquer ces indices à X_stem\n",
    "X_train_stem = X_stem.loc[train_indices]\n",
    "X_test_stem = X_stem.loc[test_indices]"
   ]
  },
  {
   "cell_type": "markdown",
   "id": "f81d1797",
   "metadata": {},
   "source": [
    "Encodage de la variable cible :"
   ]
  },
  {
   "cell_type": "code",
   "execution_count": 35,
   "id": "e7e24a54",
   "metadata": {},
   "outputs": [],
   "source": [
    "# Instancier l'encodeur\n",
    "label_encoder = LabelEncoder()\n",
    "\n",
    "# Appliquer l'encodeur sur y_train et y_test\n",
    "y_train = label_encoder.fit_transform(y_train)\n",
    "y_test = label_encoder.transform(y_test)"
   ]
  },
  {
   "cell_type": "markdown",
   "id": "a78e8434",
   "metadata": {},
   "source": [
    "## Vectorisation du texte\n",
    "### Bag of Words\n",
    "Jeu de données nettoyé avec la lemmatisation :"
   ]
  },
  {
   "cell_type": "code",
   "execution_count": 36,
   "id": "c1b40c6e",
   "metadata": {},
   "outputs": [],
   "source": [
    "# Initialiser le vectoriseur BoW\n",
    "bow_vectorizer = CountVectorizer()\n",
    "\n",
    "# Appliquer la vectorisation BoW\n",
    "X_train_lem_bow = bow_vectorizer.fit_transform(X_train_lem)\n",
    "X_test_lem_bow = bow_vectorizer.transform(X_test_lem)"
   ]
  },
  {
   "cell_type": "markdown",
   "id": "9ced367a",
   "metadata": {},
   "source": [
    "Jeu de données nettoyé avec le stemming :"
   ]
  },
  {
   "cell_type": "code",
   "execution_count": 37,
   "id": "3e5fb954",
   "metadata": {},
   "outputs": [],
   "source": [
    "# Initialiser le vectoriseur BoW\n",
    "bow_vectorizer = CountVectorizer()\n",
    "\n",
    "# Appliquer la vectorisation BoW\n",
    "X_train_stem_bow = bow_vectorizer.fit_transform(X_train_stem)\n",
    "X_test_stem_bow = bow_vectorizer.transform(X_test_stem)"
   ]
  },
  {
   "cell_type": "markdown",
   "id": "2da093b7",
   "metadata": {},
   "source": [
    "### TF-IDF\n",
    "Jeu de données nettoyé avec la lemmatisation :"
   ]
  },
  {
   "cell_type": "code",
   "execution_count": 38,
   "id": "eae1e5a3",
   "metadata": {},
   "outputs": [],
   "source": [
    "# Initialiser le vectoriseur TF-IDF\n",
    "tfidf_vectorizer = TfidfVectorizer()\n",
    "\n",
    "# Appliquer la vectorisation TF-IDF\n",
    "X_train_lem_tfidf = tfidf_vectorizer.fit_transform(X_train_lem)\n",
    "X_test_lem_tfidf = tfidf_vectorizer.transform(X_test_lem)"
   ]
  },
  {
   "cell_type": "markdown",
   "id": "05e089c5",
   "metadata": {},
   "source": [
    "Jeu de données nettoyé avec le stemming :"
   ]
  },
  {
   "cell_type": "code",
   "execution_count": 39,
   "id": "e1e975bf",
   "metadata": {},
   "outputs": [],
   "source": [
    "# Initialiser le vectoriseur TF-IDF\n",
    "tfidf_vectorizer = TfidfVectorizer()\n",
    "\n",
    "# Appliquer la vectorisation TF-IDF\n",
    "X_train_stem_tfidf = tfidf_vectorizer.fit_transform(X_train_stem)\n",
    "X_test_stem_tfidf = tfidf_vectorizer.transform(X_test_stem)"
   ]
  },
  {
   "cell_type": "markdown",
   "id": "0ba9b86c",
   "metadata": {},
   "source": [
    "### Word2Vec\n",
    "\n",
    "Word2Vec est un algorithme d'apprentissage non supervisé utilisé pour apprendre des représentations vectorielles de mots à partir de grands corpus de textes. L'idée principale de Word2Vec est de représenter chaque mot dans un espace vectoriel de manière à capturer ses relations sémantiques avec d'autres mots.\n",
    "\n",
    "Word2Vec génère des représentations vectorielles de mots en basant l'entraînement sur le contexte dans lequel les mots apparaissent : le modèle prend un mot central et essaie de prédire les mots qui l'entourent dans une fenêtre de contexte donnée.\n",
    "\n",
    "Paramètres principaux de l'algorithme :\n",
    "- `vector_size` : La dimension des vecteurs de mots (par exemple, 100 ou 300).\n",
    "- `window` : La taille de la fenêtre de contexte (nombre de mots avant et après le mot central).\n",
    "- `min_count` : Ignore les mots qui apparaissent moins que ce nombre dans le corpus."
   ]
  },
  {
   "cell_type": "markdown",
   "id": "5ceabe9b",
   "metadata": {},
   "source": [
    "Jeu de données nettoyé avec la lemmatisation :"
   ]
  },
  {
   "cell_type": "code",
   "execution_count": 40,
   "id": "24fcbffb",
   "metadata": {},
   "outputs": [],
   "source": [
    "# Tokeniser les phrases en mots\n",
    "X_train_lem_tokens = [sentence.split() for sentence in X_train_lem]\n",
    "X_test_lem_tokens = [sentence.split() for sentence in X_test_lem]\n",
    "\n",
    "# Entraîner Word2Vec\n",
    "w2v_model = Word2Vec(sentences=X_train_lem_tokens, vector_size=100, window=5, min_count=1, workers=4)\n",
    "\n",
    "# Moyenne des vecteurs Word2Vec pour chaque phrase\n",
    "def get_w2v_vectors(model, tokens):\n",
    "    return np.array([np.mean([model.wv[word] for word in words if word in model.wv] or [np.zeros(100)], axis=0) for words in tokens])\n",
    "\n",
    "# Appliquer la vectorisation Word2Vec\n",
    "X_train_lem_w2v = get_w2v_vectors(w2v_model, X_train_lem_tokens)\n",
    "X_test_lem_w2v = get_w2v_vectors(w2v_model, X_test_lem_tokens)"
   ]
  },
  {
   "cell_type": "markdown",
   "id": "1d625a69",
   "metadata": {},
   "source": [
    "Jeu de données nettoyé avec le stemming :"
   ]
  },
  {
   "cell_type": "code",
   "execution_count": 41,
   "id": "d8e68958",
   "metadata": {},
   "outputs": [],
   "source": [
    "# Tokeniser les phrases en mots\n",
    "X_train_stem_tokens = [sentence.split() for sentence in X_train_stem]\n",
    "X_test_stem_tokens = [sentence.split() for sentence in X_test_stem]\n",
    "\n",
    "# Entraîner Word2Vec\n",
    "w2v_model = Word2Vec(sentences=X_train_stem_tokens, vector_size=100, window=5, min_count=1, workers=4)\n",
    "\n",
    "# Appliquer la vectorisation Word2Vec\n",
    "X_train_stem_w2v = get_w2v_vectors(w2v_model, X_train_stem_tokens)\n",
    "X_test_stem_w2v = get_w2v_vectors(w2v_model, X_test_stem_tokens)"
   ]
  },
  {
   "cell_type": "markdown",
   "id": "c36caab9",
   "metadata": {},
   "source": [
    "### BERT\n",
    "BERT (Bidirectional Encoder Representations from Transformers) est un modèle de traitement du langage naturel basé sur l'architecture Transformer. Il est entraîné pour capturer le contexte d'un mot en tenant compte de son environnement dans les deux directions (avant et arrière). Contrairement aux modèles comme Word2Vec où chaque mot a une seule représentation fixe, BERT est bidirectionnel, ce qui lui permet d'avoir une représentation dynamique qui change selon la signification du mot dans une phrase donnée.\n",
    "\n",
    "BERT est pré-entraîné sur deux tâches :\n",
    "- Masked Language Model : BERT masque certains mots d'une phrase et doit les prédire en fonction du contexte.\n",
    "- Next Sentence Prediction : BERT est aussi entraîné pour prédire si une phrase suit logiquement une autre, ce qui l'aide à comprendre les relations entre phrases.\n",
    "\n",
    "Ensuite, BERT peut être fine-tuné sur des tâches spécifiques telles que la classification de texte.\n",
    "\n",
    "Ici, nous allons utiliser DistilBERT, une version plus légère de BERT qui permet de gagner en temps de calcul. Ce modèle nous servira à extraire les représentations vectorielles des mots."
   ]
  },
  {
   "cell_type": "markdown",
   "id": "78c2b685",
   "metadata": {},
   "source": [
    "Jeu de données nettoyé avec la lemmatisation :"
   ]
  },
  {
   "cell_type": "code",
   "execution_count": 42,
   "id": "0fb4daba",
   "metadata": {},
   "outputs": [],
   "source": [
    "# Charger le tokenizer et le modèle DistilBERT\n",
    "tokenizer = DistilBertTokenizer.from_pretrained('distilbert-base-uncased')\n",
    "model = DistilBertModel.from_pretrained('distilbert-base-uncased')\n",
    "\n",
    "# Fonction pour obtenir les embeddings DistilBERT (représentations vectorielles)\n",
    "def get_distilbert_embeddings(texts):\n",
    "    # Tokeniser les textes\n",
    "    tokens = tokenizer(texts, padding=True, truncation=True, max_length=128, return_tensors=\"pt\")\n",
    "    # Désactiver la dérivation des gradients car nous n'avons pas besoin d'entraîner le modèle ici\n",
    "    with torch.no_grad():\n",
    "        outputs = model(**tokens)\n",
    "    # Prendre la moyenne des vecteurs de sortie pour obtenir une représentation globale de la phrase\n",
    "    return outputs.last_hidden_state.mean(dim=1).numpy()\n",
    "\n",
    "# Appliquer la fonction pour obtenir les embeddings sur les ensembles d'entraînement et de test\n",
    "X_train_lem_bert = [get_distilbert_embeddings(text) for text in X_train_lem]\n",
    "X_test_lem_bert = [get_distilbert_embeddings(text) for text in X_test_lem]\n",
    "\n",
    "# Suppression de la dimension inutile\n",
    "X_train_lem_bert = np.squeeze(X_train_lem_bert, axis=1)\n",
    "X_test_lem_bert = np.squeeze(X_test_lem_bert, axis=1)"
   ]
  },
  {
   "cell_type": "markdown",
   "id": "91510f46",
   "metadata": {},
   "source": [
    "Jeu de données nettoyé avec le stemming :"
   ]
  },
  {
   "cell_type": "code",
   "execution_count": 43,
   "id": "26b6aa4b",
   "metadata": {},
   "outputs": [],
   "source": [
    "X_train_stem_bert = [get_distilbert_embeddings(text) for text in X_train_stem]\n",
    "X_test_stem_bert = [get_distilbert_embeddings(text) for text in X_test_stem]\n",
    "\n",
    "# Suppression de la dimension inutile\n",
    "X_train_stem_bert = np.squeeze(X_train_stem_bert, axis=1)\n",
    "X_test_stem_bert = np.squeeze(X_test_stem_bert, axis=1)"
   ]
  },
  {
   "cell_type": "markdown",
   "id": "ee544f3b",
   "metadata": {},
   "source": [
    "### USE\n",
    "\n",
    "USE (Universal Sentence Encoder) est un modèle de machine learning conçu pour générer des représentations vectorielles de phrases ou de documents entiers, permettant de capturer leur sens global. \n",
    "\n",
    "Il existe en deux versions : une basée sur un réseau Transformer, qui utilise un mécanisme d'attention pour comprendre les relations complexes entre les mots, et une autre basée sur un réseau Deep Averaging Network (DAN), qui fait la moyenne des embeddings de mots pour obtenir une représentation moins coûteuse en calcul. Le modèle est pré-entraîné sur de grandes quantités de données pour capturer un large éventail de relations sémantiques.\n",
    "\n",
    "USE produit un vecteur de 512 dimensions pour chaque phrase, ce qui permet de mesurer la similarité sémantique entre phrases, indépendamment des mots exacts utilisés. Ce modèle peut être utilisé pour des tâches comme la recherche sémantique, la classification de texte et la détection de similarité."
   ]
  },
  {
   "cell_type": "code",
   "execution_count": 44,
   "id": "459081fe",
   "metadata": {},
   "outputs": [],
   "source": [
    "# Configurer TensorFlow pour ignorer les avertissements\n",
    "tf.get_logger().setLevel('ERROR')"
   ]
  },
  {
   "cell_type": "code",
   "execution_count": 45,
   "id": "c99ebb3e",
   "metadata": {},
   "outputs": [],
   "source": [
    "# Charger le modèle Universal Sentence Encoder version Transformer\n",
    "os.environ['TFHUB_CACHE_DIR'] = '/home/user/workspace/tf_cache'\n",
    "embed = hub.load(\"https://tfhub.dev/google/universal-sentence-encoder/4\")\n",
    "\n",
    "# Appliquer la vectorisation USE\n",
    "X_train_lem_use = embed(X_train_lem)\n",
    "X_test_lem_use = embed(X_test_lem)"
   ]
  },
  {
   "cell_type": "markdown",
   "id": "6e5e8928",
   "metadata": {},
   "source": [
    "Jeu de données nettoyé avec le stemming :"
   ]
  },
  {
   "cell_type": "code",
   "execution_count": 46,
   "id": "f6f220fa",
   "metadata": {},
   "outputs": [],
   "source": [
    "X_train_stem_use = embed(X_train_stem)\n",
    "X_test_stem_use = embed(X_test_stem)"
   ]
  },
  {
   "cell_type": "markdown",
   "id": "d650aa50",
   "metadata": {},
   "source": [
    "### Dictionnaire contenant toutes les vectorisations"
   ]
  },
  {
   "cell_type": "code",
   "execution_count": 47,
   "id": "e8850f46",
   "metadata": {},
   "outputs": [],
   "source": [
    "# Jeux de données de vectorisation\n",
    "datasets = {\n",
    "    \"lem_bow\": (X_train_lem_bow, X_test_lem_bow),\n",
    "    \"stem_bow\": (X_train_stem_bow, X_test_stem_bow),\n",
    "    \"lem_tfidf\": (X_train_lem_tfidf, X_test_lem_tfidf),\n",
    "    \"stem_tfidf\": (X_train_stem_tfidf, X_test_stem_tfidf),\n",
    "    \"lem_w2v\": (X_train_lem_w2v, X_test_lem_w2v),\n",
    "    \"stem_w2v\": (X_train_stem_w2v, X_test_stem_w2v),\n",
    "    \"lem_bert\": (X_train_lem_bert, X_test_lem_bert),\n",
    "    \"stem_bert\": (X_train_stem_bert, X_test_stem_bert),\n",
    "    \"lem_use\": (X_train_lem_use, X_test_lem_use),\n",
    "    \"stem_use\": (X_train_stem_use, X_test_stem_use)\n",
    "}"
   ]
  },
  {
   "cell_type": "markdown",
   "id": "1f4d9d14",
   "metadata": {},
   "source": [
    "## Modélisation\n",
    "### Entraînement et évaluation des modèles"
   ]
  },
  {
   "cell_type": "code",
   "execution_count": 48,
   "id": "dd698511",
   "metadata": {},
   "outputs": [],
   "source": [
    "# Dictionnaire contenant les modèles de machine learning à tester\n",
    "models = {\n",
    "    \"Logistic Regression\": LogisticRegression(max_iter=1000, random_state=42),\n",
    "    \"Linear SVM\": SVC(kernel='linear', random_state=42),\n",
    "    \"K-Nearest Neighbors\": KNeighborsClassifier(),\n",
    "    \"Kernel SVM\": SVC(kernel='rbf', random_state=42),\n",
    "    \"Random Forest\": RandomForestClassifier(random_state=42),\n",
    "    \"Gradient Boosting\": GradientBoostingClassifier(random_state=42),\n",
    "    \"XGBoost\": XGBClassifier(random_state=42),\n",
    "    \"Multilayer Perceptron\": MLPClassifier(max_iter=1000, random_state=42)\n",
    "}"
   ]
  },
  {
   "cell_type": "code",
   "execution_count": 49,
   "id": "6eaa7fba",
   "metadata": {},
   "outputs": [
    {
     "name": "stderr",
     "output_type": "stream",
     "text": [
      "C:\\Users\\User\\anaconda3\\Lib\\site-packages\\sklearn\\neural_network\\_multilayer_perceptron.py:690: ConvergenceWarning: Stochastic Optimizer: Maximum iterations (1000) reached and the optimization hasn't converged yet.\n",
      "  warnings.warn(\n",
      "C:\\Users\\User\\anaconda3\\Lib\\site-packages\\sklearn\\neural_network\\_multilayer_perceptron.py:690: ConvergenceWarning: Stochastic Optimizer: Maximum iterations (1000) reached and the optimization hasn't converged yet.\n",
      "  warnings.warn(\n"
     ]
    }
   ],
   "source": [
    "results = []\n",
    "\n",
    "# Boucle sur chaque dataset et modèle\n",
    "for dataset_name, (X_train, X_test) in datasets.items():\n",
    "    for model_name, model in models.items():\n",
    "        # Entraînement du modèle\n",
    "        trained_model = model.fit(X_train, y_train)\n",
    "        \n",
    "        # Prédiction sur les données de test\n",
    "        y_pred = trained_model.predict(X_test)\n",
    "        \n",
    "        # Calcul des métriques de performance\n",
    "        accuracy = accuracy_score(y_test, y_pred)\n",
    "        f1 = f1_score(y_test, y_pred, average='weighted')\n",
    "        precision = precision_score(y_test, y_pred, average='weighted', zero_division=0)\n",
    "        recall = recall_score(y_test, y_pred, average='weighted')\n",
    "        \n",
    "        # Stocker les résultats\n",
    "        results.append({\n",
    "            'Dataset': dataset_name,\n",
    "            'Model': model_name,\n",
    "            'Accuracy': accuracy,\n",
    "            'F1 Score': f1,\n",
    "            'Precision': precision,\n",
    "            'Recall': recall\n",
    "        })\n",
    "\n",
    "# Convertion des résultats en DataFrame\n",
    "results_df = pd.DataFrame(results)"
   ]
  },
  {
   "cell_type": "markdown",
   "id": "28c216c1",
   "metadata": {},
   "source": [
    "### Visualisation des résultats et sélection du modèle final\n",
    "\n",
    "Création d'une heatmap affichant l'accuracy pour chaque modèle et type de vectorisation :"
   ]
  },
  {
   "cell_type": "code",
   "execution_count": 50,
   "id": "22a15bf1",
   "metadata": {},
   "outputs": [
    {
     "data": {
      "image/png": "[encoded data removed]",
      "text/plain": [
       "<Figure size 900x600 with 2 Axes>"
      ]
     },
     "metadata": {},
     "output_type": "display_data"
    }
   ],
   "source": [
    "# Création d'une matrice contenant les scores accuracy avec les modèles en lignes et les datasets en colonnes\n",
    "accuracy_matrix = results_df.pivot(index='Model', columns='Dataset', values='Accuracy')\n",
    "\n",
    "# Création d'une heatmap\n",
    "plt.figure(figsize=(9, 6))\n",
    "sns.heatmap(accuracy_matrix, annot=True, fmt=\".3f\", cmap='coolwarm', cbar=True, linewidths=0.5)\n",
    "plt.title(\"Heatmap des scores d'accuracy pour chaque modèle et type de vectorisation\", fontsize=14)\n",
    "plt.xlabel(\"Type de vectorisation\")\n",
    "plt.ylabel(\"Modèle\")\n",
    "plt.xticks(rotation=60)\n",
    "plt.show()"
   ]
  },
  {
   "cell_type": "markdown",
   "id": "7bbd84e8",
   "metadata": {},
   "source": [
    "Le modèle MLPClassifier semble offrir les meilleures performances en termes d'accuracy sur le jeu de données lemmatisé et vectorisé à l'aide de la méthode Bag of Words.\n",
    "\n",
    "Ce modèle est un algorithme de classification qui utilise des couches de neurones fully-connected. Chaque neurone dans une couche est connecté à tous les neurones de la couche précédente, permettant au modèle d'apprendre des relations complexes non linéaires à l'aide d'une fonction d'activation.\n",
    "\n",
    "Nous allons donc retenir le modèle MLPClassifier comme modèle final et procéder à l'optimisation de ses hyperparamètres, afin d'améliorer encore ses performances sur ce jeu de données."
   ]
  },
  {
   "cell_type": "markdown",
   "id": "7a689269",
   "metadata": {},
   "source": [
    "### Optimisation des hyperparamètres\n",
    "\n",
    "Afin d'identifier les hyperparamètres permettant de maximiser les performances des modèles, nous allons utiliser RandomizedSearchCV qui teste aléatoirement plusieurs combinaisons possibles."
   ]
  },
  {
   "cell_type": "code",
   "execution_count": 51,
   "id": "ebe179a5",
   "metadata": {},
   "outputs": [],
   "source": [
    "# Sélection du modèle et du jeu de données permettant d'obtenir les meilleures performances\n",
    "mlp = models['Multilayer Perceptron']\n",
    "X_train, X_test = datasets['lem_bow']"
   ]
  },
  {
   "cell_type": "code",
   "execution_count": 52,
   "id": "71054872",
   "metadata": {},
   "outputs": [
    {
     "name": "stderr",
     "output_type": "stream",
     "text": [
      "C:\\Users\\User\\anaconda3\\Lib\\site-packages\\sklearn\\model_selection\\_search.py:412: VisibleDeprecationWarning: Creating an ndarray from ragged nested sequences (which is a list-or-tuple of lists-or-tuples-or ndarrays with different lengths or shapes) is deprecated. If you meant to do this, you must specify 'dtype=object' when creating the ndarray.\n",
      "  arr = np.array(param_list)\n"
     ]
    },
    {
     "name": "stdout",
     "output_type": "stream",
     "text": [
      "Meilleurs hyperparamètres : {'solver': 'sgd', 'learning_rate_init': 0.001, 'hidden_layer_sizes': (100, 50), 'alpha': 0.0001, 'activation': 'tanh'}\n"
     ]
    }
   ],
   "source": [
    "# Grille de paramètres à tester\n",
    "param_grid = {\n",
    "    'hidden_layer_sizes': [(50,), (100,), (100, 50)], # Nombre et taille des couches cachées\n",
    "    'activation': ['relu', 'tanh'], # Fonction d'activation utilisée dans les neurones\n",
    "    'solver': ['adam', 'sgd'], # Algorithme d'optimisation\n",
    "    'alpha': [0.0001, 0.001, 0.01], # Terme de régularisation L2\n",
    "    'learning_rate_init': [0.001, 0.01, 0.1], # Taux d'apprentissage initial pour la mise à jour des poids\n",
    "}\n",
    "\n",
    "# Configuration de RandomizedSearchCV\n",
    "random_search = RandomizedSearchCV(\n",
    "    mlp,\n",
    "    param_grid,\n",
    "    n_iter=10,\n",
    "    cv=5,\n",
    "    scoring='accuracy',\n",
    "    random_state=42\n",
    ")\n",
    "\n",
    "# Recherche des meilleurs hyperparamètres sur le jeu de données\n",
    "search_result = random_search.fit(X_train, y_train)\n",
    "\n",
    "# Affichage des résultats de l'optimisation\n",
    "print(f\"Meilleurs hyperparamètres : {search_result.best_params_}\")"
   ]
  },
  {
   "cell_type": "code",
   "execution_count": 53,
   "id": "479a764a",
   "metadata": {},
   "outputs": [
    {
     "name": "stdout",
     "output_type": "stream",
     "text": [
      "Accuracy du modèle final : 0.962\n"
     ]
    }
   ],
   "source": [
    "# Réentraînement du modèle avec les meilleurs hyperparamètres trouvés\n",
    "final_model = search_result.best_estimator_.fit(X_train, y_train)\n",
    "\n",
    "# Prédiction sur les données de test\n",
    "y_pred = final_model.predict(X_test)\n",
    "        \n",
    "# Affichage du scure d'accuracy\n",
    "print(f\"Accuracy du modèle final : {round(accuracy_score(y_test, y_pred), 3)}\")"
   ]
  },
  {
   "cell_type": "markdown",
   "id": "424c714d",
   "metadata": {},
   "source": [
    "### Interprétation des prédictions du modèle final\n",
    "\n",
    "Affichons la matrice de confusion des prédictions du modèle final :"
   ]
  },
  {
   "cell_type": "code",
   "execution_count": 54,
   "id": "4e1f9775",
   "metadata": {},
   "outputs": [],
   "source": [
    "# Récupération des labels non encodés\n",
    "y_test_lab = label_encoder.inverse_transform(y_test)\n",
    "y_pred_lab = label_encoder.inverse_transform(y_pred)"
   ]
  },
  {
   "cell_type": "code",
   "execution_count": 55,
   "id": "40d13b91",
   "metadata": {},
   "outputs": [
    {
     "data": {
      "image/png": "[encoded data removed]",
      "text/plain": [
       "<Figure size 600x500 with 1 Axes>"
      ]
     },
     "metadata": {},
     "output_type": "display_data"
    }
   ],
   "source": [
    "# Calcul de la matrice de confusion\n",
    "cm = confusion_matrix(y_test_lab, y_pred_lab, labels=label_encoder.classes_)\n",
    "\n",
    "# Affichage de la figure\n",
    "plt.figure(figsize=(6, 5))\n",
    "sns.heatmap(cm, annot=True, fmt='d', cmap='Blues', \n",
    "            xticklabels=label_encoder.classes_, \n",
    "            yticklabels=label_encoder.classes_,\n",
    "            cbar=False)\n",
    "plt.title(f'Matrice de confusion')\n",
    "plt.xlabel('Catégorie prédite')\n",
    "plt.ylabel('Catégorie réelle')\n",
    "plt.show()"
   ]
  },
  {
   "cell_type": "code",
   "execution_count": 56,
   "id": "009745d0",
   "metadata": {},
   "outputs": [
    {
     "name": "stdout",
     "output_type": "stream",
     "text": [
      "                            precision    recall  f1-score   support\n",
      "\n",
      "                 Baby Care       0.94      0.87      0.90        38\n",
      "  Beauty and Personal Care       0.93      1.00      0.96        27\n",
      "                 Computers       0.98      1.00      0.99        46\n",
      "Home Decor & Festive Needs       0.95      0.95      0.95        38\n",
      "           Home Furnishing       0.96      0.98      0.97        45\n",
      "          Kitchen & Dining       0.97      0.94      0.95        31\n",
      "                   Watches       1.00      1.00      1.00        38\n",
      "\n",
      "                  accuracy                           0.96       263\n",
      "                 macro avg       0.96      0.96      0.96       263\n",
      "              weighted avg       0.96      0.96      0.96       263\n",
      "\n"
     ]
    }
   ],
   "source": [
    "print(classification_report(y_test_lab, y_pred_lab))"
   ]
  },
  {
   "cell_type": "markdown",
   "id": "9b450738",
   "metadata": {},
   "source": [
    "- Le modèle parvient à classer parfaitement les acticles de la catégorie `Watches`, comme le montre le score d'accuracy de 1,00.\n",
    "- Pour les catégories `Computers`, `Home Decor & Festive Needs`, `Home Furnishing` et `Kitchen & Dining`, les scores d'accuracy, tous supérieurs ou égaux à 0,95, témoignent d'une classification très fiable.\n",
    "- Enfin, le modèle rencontre plus de difficultés à classer précisément les articles des catégories `Baby Care` et `Beauty and Personal Care`, où les scores d'accuracy de 0,93 et 0,94 indiquent une marge d'amélioration."
   ]
  },
  {
   "cell_type": "markdown",
   "id": "2da56765",
   "metadata": {},
   "source": [
    "## Conclusion\n",
    "\n",
    "Dans le cadre de ce projet, nous avons développé un moteur de classification automatique pour l'attribution de catégories à des articles d'une marketplace e-commerce. Grâce à une approche systématique incluant l'exploration, le nettoyage, et la vectorisation des données textuelles, nous avons pu créer un modèle performant capable de classer les articles avec une grande précision.\n",
    "\n",
    "L'utilisation du modèle MLPClassifier a montré des résultats particulièrement encourageants, atteignant une accuracy de 0.962 sur le jeu de données lemmatisé et vectorisé à l'aide de la méthode Bag of Words.\n",
    "\n",
    "En intégrant ce modèle dans la plateforme e-commerce, il sera alors possible de réduire les erreurs humaines, améliorer l'expérience utilisateur tant pour les vendeurs que pour les acheteurs, et faciliter la recherche d'articles."
   ]
  },
  {
   "cell_type": "code",
   "execution_count": null,
   "id": "7e3ef2ad",
   "metadata": {},
   "outputs": [],
   "source": []
  }
 ],
 "metadata": {
  "kernelspec": {
   "display_name": "Python 3 (ipykernel)",
   "language": "python",
   "name": "python3"
  },
  "language_info": {
   "codemirror_mode": {
    "name": "ipython",
    "version": 3
   },
   "file_extension": ".py",
   "mimetype": "text/x-python",
   "name": "python",
   "nbconvert_exporter": "python",
   "pygments_lexer": "ipython3",
   "version": "3.11.5"
  },
  "toc": {
   "base_numbering": 1,
   "nav_menu": {},
   "number_sections": true,
   "sideBar": true,
   "skip_h1_title": false,
   "title_cell": "Table of Contents",
   "title_sidebar": "Contents",
   "toc_cell": false,
   "toc_position": {},
   "toc_section_display": true,
   "toc_window_display": false
  }
 },
 "nbformat": 4,
 "nbformat_minor": 5
}
